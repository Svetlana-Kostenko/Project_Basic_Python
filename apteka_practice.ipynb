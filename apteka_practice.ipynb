{
 "cells": [
  {
   "cell_type": "code",
   "execution_count": 1,
   "id": "d6f62734-98b4-451e-89ac-2d767a41c023",
   "metadata": {},
   "outputs": [],
   "source": [
    "from glob import glob\n",
    "import pandas as pd\n",
    "import numpy as np\n",
    "from os import makedirs\n",
    "from os.path import dirname\n",
    "from os.path import basename, splitext\n",
    "import time\n",
    "from contextlib import contextmanager"
   ]
  },
  {
   "cell_type": "code",
   "execution_count": 2,
   "id": "1c76fcba-b0ef-407c-a8b3-836d7b0370e0",
   "metadata": {},
   "outputs": [],
   "source": [
    "def check_merge(df, source):\n",
    "    type_doc = [\"СчФктр\", \"УпдДоп\", \"УпдСчфДоп\", \"ЭДОНакл\"]\n",
    "    \n",
    "    df.insert(8, \"Номер счет-фактуры\", value=\"\")\n",
    "    df.insert(9, \"Сумма счет-фактуры\", value=\"\") \n",
    "    df[\"Дата счет-фактуры\"] = \"\"\n",
    "    df[\"Сравнение дат\"] = \"\"\n",
    "    # Оставляем только первые строки для каждого номера\n",
    "    filtered_source = (\n",
    "        source[source['Тип документа'].isin(type_doc)]\n",
    "        .drop_duplicates(subset='Номер', keep='first')\n",
    "    )\n",
    "    filtered_source = filtered_source.add_suffix('_source')\n",
    "    merged = pd.merge(df,\n",
    "        filtered_source,\n",
    "        left_on='Номер накладной',\n",
    "        right_on='Номер_source',\n",
    "        how='left'\n",
    "    )\n",
    "    merged['Дата.1_source'] = pd.to_datetime(\n",
    "        merged['Дата.1_source'], \n",
    "        dayfirst=True,\n",
    "        format='%d.%m.%y'\n",
    "    ).dt.strftime('%d.%m.%Y')\n",
    "    \n",
    "    merged['Дата накладной'] = pd.to_datetime(\n",
    "        merged['Дата накладной'], \n",
    "        dayfirst=True,\n",
    "        format='%d.%m.%Y'\n",
    "    ).dt.strftime('%d.%m.%Y')\n",
    "\n",
    "    merged['Номер счет-фактуры'] = merged['Номер_source'].mask(merged['Поставщик'] == 'ЕАПТЕКА', merged['Номер_source'] + '/15')\n",
    "    merged['Сумма счет-фактуры'] = merged['Сумма_source']\n",
    "    merged['Дата счет-фактуры'] =  merged['Дата.1_source']\n",
    "\n",
    "    merged['Сравнение дат'] = np.where((merged['Дата накладной'] != merged['Дата счет-фактуры']) & (merged['Дата счет-фактуры'].notna()) , 'Не совпадает!', '')\n",
    "\n",
    "    return merged[df.columns]"
   ]
  },
  {
   "cell_type": "code",
   "execution_count": 3,
   "id": "4086f02d-201c-42ae-b4e1-e9759065474d",
   "metadata": {
    "scrolled": true
   },
   "outputs": [
    {
     "name": "stdout",
     "output_type": "stream",
     "text": [
      "файл \"366\" обработан\n",
      "файл \"А123\" обработан\n",
      "Время выполнения: 10.53 секунд\n"
     ]
    }
   ],
   "source": [
    "@contextmanager\n",
    "def timer():\n",
    "    start_time = time.time()\n",
    "    try:\n",
    "        yield\n",
    "    finally:\n",
    "        end_time = time.time()\n",
    "        print(f\"Время выполнения: {round(end_time - start_time, 2)} секунд\")\n",
    "\n",
    "with timer():\n",
    "    path = 'C:/Users/Pala/Documents/jupyter/practise_pandas'\n",
    "    current_date = pd.Timestamp('now').date().strftime('%d-%m-%Y')\n",
    "    folder_source = '/Входящие'\n",
    "    folder_apteka = '/Аптеки/csv/correct'\n",
    "    \n",
    "    lst_source_files = glob(path + folder_source + '/*.csv')\n",
    "    lst_apteka_files = glob(path + folder_apteka + '/*.csv')\n",
    "    lst_source_dfs = [pd.read_csv(item, encoding='cp1251', engine='python', sep=';' ) for item in lst_source_files]\n",
    "    source_df = pd.concat(lst_source_dfs, ignore_index=True)\n",
    "        \n",
    "    for filepath in lst_apteka_files:\n",
    "        df = pd.read_csv(filepath, encoding='cp1251', engine='python', sep=';' )\n",
    "        res = check_merge(df, source_df)\n",
    "        # Создаем путь с папками\n",
    "        filename = splitext(basename(filepath))[0]\n",
    "        res_file_path = f'{path}/Результат/{current_date}/{filename} - результат.xlsx'\n",
    "        # Создаем папки если их нет\n",
    "        makedirs(dirname(res_file_path), exist_ok=True)\n",
    "        # Сохраняем файл\n",
    "        res.to_excel(res_file_path, index=False)\n",
    "        print(f'файл \"{filename}\" обработан')"
   ]
  }
 ],
 "metadata": {
  "kernelspec": {
   "display_name": "Python [conda env:base] *",
   "language": "python",
   "name": "conda-base-py"
  },
  "language_info": {
   "codemirror_mode": {
    "name": "ipython",
    "version": 3
   },
   "file_extension": ".py",
   "mimetype": "text/x-python",
   "name": "python",
   "nbconvert_exporter": "python",
   "pygments_lexer": "ipython3",
   "version": "3.13.5"
  }
 },
 "nbformat": 4,
 "nbformat_minor": 5
}
